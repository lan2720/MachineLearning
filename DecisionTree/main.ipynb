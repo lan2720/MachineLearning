{
 "cells": [
  {
   "cell_type": "code",
   "execution_count": 1,
   "metadata": {},
   "outputs": [],
   "source": [
    "import pandas as pd\n",
    "import numpy as np"
   ]
  },
  {
   "cell_type": "code",
   "execution_count": 2,
   "metadata": {},
   "outputs": [
    {
     "name": "stdout",
     "output_type": "stream",
     "text": [
      "    编号  色泽  根蒂  敲声  纹理  脐部  触感 好瓜\n",
      "0    1  青绿  蜷缩  浊响  清晰  凹陷  硬滑  是\n",
      "1    2  乌黑  蜷缩  沉闷  清晰  凹陷  硬滑  是\n",
      "2    3  乌黑  蜷缩  浊响  清晰  凹陷  硬滑  是\n",
      "3    4  青绿  蜷缩  沉闷  清晰  凹陷  硬滑  是\n",
      "4    5  浅白  蜷缩  浊响  清晰  凹陷  硬滑  是\n",
      "5    6  青绿  稍蜷  浊响  清晰  稍凹  软粘  是\n",
      "6    7  乌黑  稍蜷  浊响  稍糊  稍凹  软粘  是\n",
      "7    8  乌黑  稍蜷  浊响  清晰  稍凹  硬滑  是\n",
      "8    9  乌黑  稍蜷  沉闷  稍糊  稍凹  硬滑  否\n",
      "9   10  青绿  硬挺  清脆  清晰  平坦  软粘  否\n",
      "10  11  浅白  硬挺  清脆  模糊  平坦  硬滑  否\n",
      "11  12  浅白  蜷缩  浊响  模糊  平坦  软粘  否\n",
      "12  13  青绿  稍蜷  浊响  稍糊  凹陷  硬滑  否\n",
      "13  14  浅白  稍蜷  沉闷  稍糊  凹陷  硬滑  否\n",
      "14  15  乌黑  稍蜷  浊响  清晰  稍凹  软粘  否\n",
      "15  16  浅白  蜷缩  浊响  模糊  平坦  硬滑  否\n",
      "16  17  青绿  蜷缩  沉闷  稍糊  稍凹  硬滑  否\n"
     ]
    }
   ],
   "source": [
    "data = pd.read_csv('watermelon_2.0.csv', sep='\\t')\n",
    "\n",
    "print(data)"
   ]
  },
  {
   "cell_type": "code",
   "execution_count": 3,
   "metadata": {},
   "outputs": [
    {
     "name": "stdout",
     "output_type": "stream",
     "text": [
      "色泽 0.10812516526536531\n",
      "根蒂 0.142674959566793\n",
      "敲声 0.14078143361499584\n",
      "纹理 0.3805918973682686\n",
      "脐部 0.28915878284167895\n",
      "触感 0.006046489176565584\n"
     ]
    }
   ],
   "source": [
    "def entropy(label, feat=None):\n",
    "    tmp = {}\n",
    "    if feat is None:\n",
    "        for i in label:\n",
    "            if i not in tmp:\n",
    "                tmp[i] = 0\n",
    "            tmp[i] += 1\n",
    "        tmp_val = list(tmp.values())\n",
    "        tmp = {}\n",
    "        tmp['total'] = tmp_val\n",
    "    else:\n",
    "        res = {}\n",
    "        for i, j in zip(feat, label):\n",
    "            if (i, j) not in res:\n",
    "                res[(i,j)] = 0\n",
    "            res[(i,j)] += 1\n",
    "        for k,v in res.items():\n",
    "            if k[0] not in tmp:\n",
    "                tmp[k[0]] = []\n",
    "            tmp[k[0]].append(v)\n",
    "    feat_entropy = 0.\n",
    "    for k, v in tmp.items():\n",
    "        v = np.array(v)\n",
    "        sum_v = np.sum(v)\n",
    "        v = v/sum_v\n",
    "        hehe = np.sum([-p*np.log2(p) for p in v])\n",
    "        feat_entropy += float(sum_v)/len(label) * hehe\n",
    "    return feat_entropy\n",
    "\n",
    "def info_gain(label, feat):\n",
    "    E = entropy(label=label, feat=None)\n",
    "    Ex = entropy(label=label, feat=feat)\n",
    "    return E-Ex\n",
    "\n",
    "    \n",
    "print('色泽', info_gain(data['好瓜'], data['色泽']))\n",
    "print('根蒂', info_gain(data['好瓜'], data['根蒂']))\n",
    "print('敲声', info_gain(data['好瓜'], data['敲声']))\n",
    "print('纹理', info_gain(data['好瓜'], data['纹理']))\n",
    "print('脐部', info_gain(data['好瓜'], data['脐部']))\n",
    "print('触感', info_gain(data['好瓜'], data['触感']))"
   ]
  },
  {
   "cell_type": "code",
   "execution_count": 4,
   "metadata": {},
   "outputs": [
    {
     "name": "stdout",
     "output_type": "stream",
     "text": [
      "色泽 0.10812516526536531\n",
      "根蒂 0.142674959566793\n",
      "敲声 0.14078143361499584\n",
      "纹理 0.3805918973682686\n",
      "脐部 0.28915878284167895\n",
      "触感 0.006046489176565584\n",
      "当前步分割特征: 纹理\n",
      "==================================================\n",
      "色泽 0.04306839587828004\n",
      "根蒂 0.45810589515712374\n",
      "敲声 0.33085622540971754\n",
      "脐部 0.45810589515712374\n",
      "触感 0.45810589515712374\n",
      "当前步分割特征: 根蒂\n",
      "==================================================\n",
      "色泽 0.2516291673878229\n",
      "敲声 0.0\n",
      "脐部 0.0\n",
      "触感 0.2516291673878229\n",
      "当前步分割特征: 色泽\n",
      "==================================================\n",
      "敲声 0.0\n",
      "脐部 0.0\n",
      "触感 1.0\n",
      "当前步分割特征: 触感\n",
      "==================================================\n",
      "色泽 0.3219280948873623\n",
      "根蒂 0.07290559532005603\n",
      "敲声 0.3219280948873623\n",
      "脐部 0.17095059445466865\n",
      "触感 0.7219280948873623\n",
      "当前步分割特征: 触感\n",
      "==================================================\n"
     ]
    }
   ],
   "source": [
    "def split_data_by_feat(data, feat_name):\n",
    "    res = []\n",
    "    for name, group in data.groupby(feat_name):\n",
    "        res.append(group.drop(columns=[feat_name]))\n",
    "    return res\n",
    "\n",
    "def decisionTree(Y, features):\n",
    "    if len(Y.unique()) == 1: # 数据已经纯了,不能再分\n",
    "        return\n",
    "    igs = []\n",
    "    for i in range(len(features.columns.values)):\n",
    "        ig = info_gain(Y, features.iloc[:, i])\n",
    "        print(features.columns.values[i], ig)\n",
    "        igs.append(ig)\n",
    "    cur_split_feat_name = list(features)[np.argmax(igs)]\n",
    "    print(\"当前步分割特征:\", cur_split_feat_name)\n",
    "    print(\"=\"*50)\n",
    "    a = split_data_by_feat(features, cur_split_feat_name)\n",
    "    for sub in a:\n",
    "        decisionTree(Y.loc[sub.index.tolist()], sub)\n",
    "    \n",
    "decisionTree(data['好瓜'], data.iloc[:, 1:-1])"
   ]
  }
 ],
 "metadata": {
  "kernelspec": {
   "display_name": "Python 3",
   "language": "python",
   "name": "python3"
  },
  "language_info": {
   "codemirror_mode": {
    "name": "ipython",
    "version": 3
   },
   "file_extension": ".py",
   "mimetype": "text/x-python",
   "name": "python",
   "nbconvert_exporter": "python",
   "pygments_lexer": "ipython3",
   "version": "3.6.7"
  }
 },
 "nbformat": 4,
 "nbformat_minor": 2
}
